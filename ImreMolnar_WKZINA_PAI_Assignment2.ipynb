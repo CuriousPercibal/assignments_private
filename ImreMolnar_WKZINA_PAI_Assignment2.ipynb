{
 "cells": [
  {
   "cell_type": "markdown",
   "source": [
    "# Principle of AI 2. Assignment\n",
    "## Imre Molnar (WKZINA)"
   ],
   "metadata": {
    "collapsed": false
   }
  },
  {
   "cell_type": "code",
   "execution_count": 231,
   "outputs": [],
   "source": [
    "import pandas as pd\n",
    "import numpy as np"
   ],
   "metadata": {
    "collapsed": false
   }
  },
  {
   "cell_type": "markdown",
   "source": [
    "## Data exploration\n",
    "\n",
    "### Data collection\n",
    "\n",
    "**Playlist.json** - (preprocessed) A small portion of my saved music. It focuses on 5 artist\n",
    "**TrackFeatures.json** - (preprocessed) the tracks' audio features like acousticness, danceability\n",
    "**ArtistData.json** - (preprocessed) the artists and what kind of music are they produce (edm, house, etc.)\n",
    "\n",
    "*preprocessed*: My spotify data did not contain these in this form and some additional data preprocessing and data collection was required. The track features and the different genres for the artists had to be collected based on my playlist using the Spotify API."
   ],
   "metadata": {
    "collapsed": false
   }
  },
  {
   "cell_type": "code",
   "execution_count": 232,
   "outputs": [],
   "source": [
    "playlist = pd.read_json('data/Playlist.json')\n",
    "features = pd.read_json('data/TrackFeatures.json')\n",
    "artists = pd.read_json('data/ArtistData.json')"
   ],
   "metadata": {
    "collapsed": false
   }
  },
  {
   "cell_type": "markdown",
   "source": [
    "## Show examples from data\n",
    "### Playlist"
   ],
   "metadata": {
    "collapsed": false
   }
  },
  {
   "cell_type": "code",
   "execution_count": 248,
   "outputs": [
    {
     "data": {
      "text/plain": "               trackName     artistName              albumName  \\\n0                   Aura         Avoure                      U   \n1                    Ray         Avoure        This Time / Ray   \n2  The Great Hope Design      Sevdaliza  The Great Hope Design   \n3  Avalon - Extended Mix      Theydream                 Avalon   \n4                   EXIT  Boris Brejcha                EXIT EP   \n\n                               trackUri  \n0  spotify:track:0B2GWovtxzsh0a02PBbNl7  \n1  spotify:track:3425OMM9bb64VMNXXldLvU  \n2  spotify:track:6D2whKQXHFzQtqPa5BXwPP  \n3  spotify:track:7CbVkrDeBTbhNWBWArsq4R  \n4  spotify:track:6rOAVYBjRscPDf6oHbQ19b  ",
      "text/html": "<div>\n<style scoped>\n    .dataframe tbody tr th:only-of-type {\n        vertical-align: middle;\n    }\n\n    .dataframe tbody tr th {\n        vertical-align: top;\n    }\n\n    .dataframe thead th {\n        text-align: right;\n    }\n</style>\n<table border=\"1\" class=\"dataframe\">\n  <thead>\n    <tr style=\"text-align: right;\">\n      <th></th>\n      <th>trackName</th>\n      <th>artistName</th>\n      <th>albumName</th>\n      <th>trackUri</th>\n    </tr>\n  </thead>\n  <tbody>\n    <tr>\n      <th>0</th>\n      <td>Aura</td>\n      <td>Avoure</td>\n      <td>U</td>\n      <td>spotify:track:0B2GWovtxzsh0a02PBbNl7</td>\n    </tr>\n    <tr>\n      <th>1</th>\n      <td>Ray</td>\n      <td>Avoure</td>\n      <td>This Time / Ray</td>\n      <td>spotify:track:3425OMM9bb64VMNXXldLvU</td>\n    </tr>\n    <tr>\n      <th>2</th>\n      <td>The Great Hope Design</td>\n      <td>Sevdaliza</td>\n      <td>The Great Hope Design</td>\n      <td>spotify:track:6D2whKQXHFzQtqPa5BXwPP</td>\n    </tr>\n    <tr>\n      <th>3</th>\n      <td>Avalon - Extended Mix</td>\n      <td>Theydream</td>\n      <td>Avalon</td>\n      <td>spotify:track:7CbVkrDeBTbhNWBWArsq4R</td>\n    </tr>\n    <tr>\n      <th>4</th>\n      <td>EXIT</td>\n      <td>Boris Brejcha</td>\n      <td>EXIT EP</td>\n      <td>spotify:track:6rOAVYBjRscPDf6oHbQ19b</td>\n    </tr>\n  </tbody>\n</table>\n</div>"
     },
     "execution_count": 248,
     "metadata": {},
     "output_type": "execute_result"
    }
   ],
   "source": [
    "playlist = playlist.drop_duplicates(subset='trackName')\n",
    "playlist[:5]"
   ],
   "metadata": {
    "collapsed": false
   }
  },
  {
   "cell_type": "markdown",
   "source": [
    "### Artists"
   ],
   "metadata": {
    "collapsed": false
   }
  },
  {
   "cell_type": "code",
   "execution_count": 247,
   "outputs": [
    {
     "data": {
      "text/plain": "                       id                    name  \\\n0  0FrpdcVlJQqibaz5HfBUrL              Rick James   \n1  1zgNpeHQe8GulzfVkYP2VK             The Trammps   \n2  4n7L1vYXp4Dt0HfxaLBj9l               Dazz Band   \n3  1EialtL6J5R7O0exgdgQ1w            Jackie Moore   \n4  3mQBpAOMWYqAZyxtyeo4Lo  KC & The Sunshine Band   \n\n                                              genres  \n0  [disco, funk, post-disco, quiet storm, soul, s...  \n1      [disco, philly soul, post-disco, quiet storm]  \n2  [disco, electro, funk, post-disco, quiet storm...  \n3                  [classic soul, disco, post-disco]  \n4                                      [disco, funk]  ",
      "text/html": "<div>\n<style scoped>\n    .dataframe tbody tr th:only-of-type {\n        vertical-align: middle;\n    }\n\n    .dataframe tbody tr th {\n        vertical-align: top;\n    }\n\n    .dataframe thead th {\n        text-align: right;\n    }\n</style>\n<table border=\"1\" class=\"dataframe\">\n  <thead>\n    <tr style=\"text-align: right;\">\n      <th></th>\n      <th>id</th>\n      <th>name</th>\n      <th>genres</th>\n    </tr>\n  </thead>\n  <tbody>\n    <tr>\n      <th>0</th>\n      <td>0FrpdcVlJQqibaz5HfBUrL</td>\n      <td>Rick James</td>\n      <td>[disco, funk, post-disco, quiet storm, soul, s...</td>\n    </tr>\n    <tr>\n      <th>1</th>\n      <td>1zgNpeHQe8GulzfVkYP2VK</td>\n      <td>The Trammps</td>\n      <td>[disco, philly soul, post-disco, quiet storm]</td>\n    </tr>\n    <tr>\n      <th>2</th>\n      <td>4n7L1vYXp4Dt0HfxaLBj9l</td>\n      <td>Dazz Band</td>\n      <td>[disco, electro, funk, post-disco, quiet storm...</td>\n    </tr>\n    <tr>\n      <th>3</th>\n      <td>1EialtL6J5R7O0exgdgQ1w</td>\n      <td>Jackie Moore</td>\n      <td>[classic soul, disco, post-disco]</td>\n    </tr>\n    <tr>\n      <th>4</th>\n      <td>3mQBpAOMWYqAZyxtyeo4Lo</td>\n      <td>KC &amp; The Sunshine Band</td>\n      <td>[disco, funk]</td>\n    </tr>\n  </tbody>\n</table>\n</div>"
     },
     "execution_count": 247,
     "metadata": {},
     "output_type": "execute_result"
    }
   ],
   "source": [
    "artists = artists.drop_duplicates(subset='name')\n",
    "artists[:5]"
   ],
   "metadata": {
    "collapsed": false
   }
  },
  {
   "cell_type": "markdown",
   "source": [
    "### Tracks' features"
   ],
   "metadata": {
    "collapsed": false
   }
  },
  {
   "cell_type": "code",
   "execution_count": 246,
   "outputs": [
    {
     "data": {
      "text/plain": "                                trackName              artistName  \\\n0                             Super Freak              Rick James   \n1                           Disco Inferno             The Trammps   \n2                             Let It Whip               Dazz Band   \n3                          This Time Baby            Jackie Moore   \n4  (Shake, Shake, Shake) Shake Your Booty  KC & The Sunshine Band   \n\n                        albumName                              trackUri  \\\n0                    Disco Nights  spotify:track:25Kg03eyzr4MVvbVaFh2pl   \n1                     The Trammps  spotify:track:7bET0DUAs59D6BsbdTqXuw   \n2                    Keep It Live  spotify:track:2UCgWpa2r4ytWueNItYbWE   \n3  I'm On My Way / With Your Love  spotify:track:04uistNIafvzVU7EOwDzGO   \n4                          Part 3  spotify:track:4mn7iv4DYJxPYbPy5R0nPE   \n\n                       id  danceability  energy   key  loudness  mode  ...  \\\n0  25Kg03eyzr4MVvbVaFh2pl         0.882   0.600   9.0   -12.010   0.0  ...   \n1  7bET0DUAs59D6BsbdTqXuw         0.802   0.850   5.0    -6.342   1.0  ...   \n2  2UCgWpa2r4ytWueNItYbWE         0.820   0.838   9.0    -6.860   0.0  ...   \n3  04uistNIafvzVU7EOwDzGO         0.806   0.814  10.0    -8.846   0.0  ...   \n4  4mn7iv4DYJxPYbPy5R0nPE         0.651   0.945  10.0    -7.922   1.0  ...   \n\n   instrumentalness  liveness  valence    tempo            type  \\\n0          0.000144    0.0343    0.954  130.988  audio_features   \n1          0.001040    0.1130    0.923  128.007  audio_features   \n2          0.002280    0.0452    0.947  132.125  audio_features   \n3          0.000852    0.0531    0.856  124.382  audio_features   \n4          0.475000    0.1500    0.939  112.292  audio_features   \n\n                                    uri  \\\n0  spotify:track:25Kg03eyzr4MVvbVaFh2pl   \n1  spotify:track:7bET0DUAs59D6BsbdTqXuw   \n2  spotify:track:2UCgWpa2r4ytWueNItYbWE   \n3  spotify:track:04uistNIafvzVU7EOwDzGO   \n4  spotify:track:4mn7iv4DYJxPYbPy5R0nPE   \n\n                                          track_href  \\\n0  https://api.spotify.com/v1/tracks/25Kg03eyzr4M...   \n1  https://api.spotify.com/v1/tracks/7bET0DUAs59D...   \n2  https://api.spotify.com/v1/tracks/2UCgWpa2r4yt...   \n3  https://api.spotify.com/v1/tracks/04uistNIafvz...   \n4  https://api.spotify.com/v1/tracks/4mn7iv4DYJxP...   \n\n                                        analysis_url duration_ms  \\\n0  https://api.spotify.com/v1/audio-analysis/25Kg...    198560.0   \n1  https://api.spotify.com/v1/audio-analysis/7bET...    218027.0   \n2  https://api.spotify.com/v1/audio-analysis/2UCg...    281280.0   \n3  https://api.spotify.com/v1/audio-analysis/04ui...    432840.0   \n4  https://api.spotify.com/v1/audio-analysis/4mn7...    185640.0   \n\n  time_signature  \n0            4.0  \n1            4.0  \n2            4.0  \n3            4.0  \n4            4.0  \n\n[5 rows x 22 columns]",
      "text/html": "<div>\n<style scoped>\n    .dataframe tbody tr th:only-of-type {\n        vertical-align: middle;\n    }\n\n    .dataframe tbody tr th {\n        vertical-align: top;\n    }\n\n    .dataframe thead th {\n        text-align: right;\n    }\n</style>\n<table border=\"1\" class=\"dataframe\">\n  <thead>\n    <tr style=\"text-align: right;\">\n      <th></th>\n      <th>trackName</th>\n      <th>artistName</th>\n      <th>albumName</th>\n      <th>trackUri</th>\n      <th>id</th>\n      <th>danceability</th>\n      <th>energy</th>\n      <th>key</th>\n      <th>loudness</th>\n      <th>mode</th>\n      <th>...</th>\n      <th>instrumentalness</th>\n      <th>liveness</th>\n      <th>valence</th>\n      <th>tempo</th>\n      <th>type</th>\n      <th>uri</th>\n      <th>track_href</th>\n      <th>analysis_url</th>\n      <th>duration_ms</th>\n      <th>time_signature</th>\n    </tr>\n  </thead>\n  <tbody>\n    <tr>\n      <th>0</th>\n      <td>Super Freak</td>\n      <td>Rick James</td>\n      <td>Disco Nights</td>\n      <td>spotify:track:25Kg03eyzr4MVvbVaFh2pl</td>\n      <td>25Kg03eyzr4MVvbVaFh2pl</td>\n      <td>0.882</td>\n      <td>0.600</td>\n      <td>9.0</td>\n      <td>-12.010</td>\n      <td>0.0</td>\n      <td>...</td>\n      <td>0.000144</td>\n      <td>0.0343</td>\n      <td>0.954</td>\n      <td>130.988</td>\n      <td>audio_features</td>\n      <td>spotify:track:25Kg03eyzr4MVvbVaFh2pl</td>\n      <td>https://api.spotify.com/v1/tracks/25Kg03eyzr4M...</td>\n      <td>https://api.spotify.com/v1/audio-analysis/25Kg...</td>\n      <td>198560.0</td>\n      <td>4.0</td>\n    </tr>\n    <tr>\n      <th>1</th>\n      <td>Disco Inferno</td>\n      <td>The Trammps</td>\n      <td>The Trammps</td>\n      <td>spotify:track:7bET0DUAs59D6BsbdTqXuw</td>\n      <td>7bET0DUAs59D6BsbdTqXuw</td>\n      <td>0.802</td>\n      <td>0.850</td>\n      <td>5.0</td>\n      <td>-6.342</td>\n      <td>1.0</td>\n      <td>...</td>\n      <td>0.001040</td>\n      <td>0.1130</td>\n      <td>0.923</td>\n      <td>128.007</td>\n      <td>audio_features</td>\n      <td>spotify:track:7bET0DUAs59D6BsbdTqXuw</td>\n      <td>https://api.spotify.com/v1/tracks/7bET0DUAs59D...</td>\n      <td>https://api.spotify.com/v1/audio-analysis/7bET...</td>\n      <td>218027.0</td>\n      <td>4.0</td>\n    </tr>\n    <tr>\n      <th>2</th>\n      <td>Let It Whip</td>\n      <td>Dazz Band</td>\n      <td>Keep It Live</td>\n      <td>spotify:track:2UCgWpa2r4ytWueNItYbWE</td>\n      <td>2UCgWpa2r4ytWueNItYbWE</td>\n      <td>0.820</td>\n      <td>0.838</td>\n      <td>9.0</td>\n      <td>-6.860</td>\n      <td>0.0</td>\n      <td>...</td>\n      <td>0.002280</td>\n      <td>0.0452</td>\n      <td>0.947</td>\n      <td>132.125</td>\n      <td>audio_features</td>\n      <td>spotify:track:2UCgWpa2r4ytWueNItYbWE</td>\n      <td>https://api.spotify.com/v1/tracks/2UCgWpa2r4yt...</td>\n      <td>https://api.spotify.com/v1/audio-analysis/2UCg...</td>\n      <td>281280.0</td>\n      <td>4.0</td>\n    </tr>\n    <tr>\n      <th>3</th>\n      <td>This Time Baby</td>\n      <td>Jackie Moore</td>\n      <td>I'm On My Way / With Your Love</td>\n      <td>spotify:track:04uistNIafvzVU7EOwDzGO</td>\n      <td>04uistNIafvzVU7EOwDzGO</td>\n      <td>0.806</td>\n      <td>0.814</td>\n      <td>10.0</td>\n      <td>-8.846</td>\n      <td>0.0</td>\n      <td>...</td>\n      <td>0.000852</td>\n      <td>0.0531</td>\n      <td>0.856</td>\n      <td>124.382</td>\n      <td>audio_features</td>\n      <td>spotify:track:04uistNIafvzVU7EOwDzGO</td>\n      <td>https://api.spotify.com/v1/tracks/04uistNIafvz...</td>\n      <td>https://api.spotify.com/v1/audio-analysis/04ui...</td>\n      <td>432840.0</td>\n      <td>4.0</td>\n    </tr>\n    <tr>\n      <th>4</th>\n      <td>(Shake, Shake, Shake) Shake Your Booty</td>\n      <td>KC &amp; The Sunshine Band</td>\n      <td>Part 3</td>\n      <td>spotify:track:4mn7iv4DYJxPYbPy5R0nPE</td>\n      <td>4mn7iv4DYJxPYbPy5R0nPE</td>\n      <td>0.651</td>\n      <td>0.945</td>\n      <td>10.0</td>\n      <td>-7.922</td>\n      <td>1.0</td>\n      <td>...</td>\n      <td>0.475000</td>\n      <td>0.1500</td>\n      <td>0.939</td>\n      <td>112.292</td>\n      <td>audio_features</td>\n      <td>spotify:track:4mn7iv4DYJxPYbPy5R0nPE</td>\n      <td>https://api.spotify.com/v1/tracks/4mn7iv4DYJxP...</td>\n      <td>https://api.spotify.com/v1/audio-analysis/4mn7...</td>\n      <td>185640.0</td>\n      <td>4.0</td>\n    </tr>\n  </tbody>\n</table>\n<p>5 rows × 22 columns</p>\n</div>"
     },
     "execution_count": 246,
     "metadata": {},
     "output_type": "execute_result"
    }
   ],
   "source": [
    "features = features.drop_duplicates(subset='trackName')\n",
    "features[:5]"
   ],
   "metadata": {
    "collapsed": false
   }
  },
  {
   "cell_type": "markdown",
   "source": [
    "## Filter relevant part of the dataframe"
   ],
   "metadata": {
    "collapsed": false
   }
  },
  {
   "cell_type": "markdown",
   "source": [
    "### Get the artists that are in the playlist, and find their corresponding genres."
   ],
   "metadata": {
    "collapsed": false
   }
  },
  {
   "cell_type": "code",
   "execution_count": 245,
   "outputs": [
    {
     "data": {
      "text/plain": "                         id           name  \\\n14   37S9qlW44AiakSF45Vra1E         Avoure   \n58   5MraexJKZDrQYzS98kNwie      Sevdaliza   \n327  5dNuHnFp9DGGOxoQx1WB5v      Theydream   \n330  6caPJFLv1wesmM7gwK1ACy  Boris Brejcha   \n360  762310PdDnwsDxAQxzQkfX   Depeche Mode   \n\n                                  genres  \n14                      [melodic techno]  \n58                     [alternative r&b]  \n327                  [high-tech minimal]  \n330  [high-tech minimal, minimal techno]  \n360                           [synthpop]  ",
      "text/html": "<div>\n<style scoped>\n    .dataframe tbody tr th:only-of-type {\n        vertical-align: middle;\n    }\n\n    .dataframe tbody tr th {\n        vertical-align: top;\n    }\n\n    .dataframe thead th {\n        text-align: right;\n    }\n</style>\n<table border=\"1\" class=\"dataframe\">\n  <thead>\n    <tr style=\"text-align: right;\">\n      <th></th>\n      <th>id</th>\n      <th>name</th>\n      <th>genres</th>\n    </tr>\n  </thead>\n  <tbody>\n    <tr>\n      <th>14</th>\n      <td>37S9qlW44AiakSF45Vra1E</td>\n      <td>Avoure</td>\n      <td>[melodic techno]</td>\n    </tr>\n    <tr>\n      <th>58</th>\n      <td>5MraexJKZDrQYzS98kNwie</td>\n      <td>Sevdaliza</td>\n      <td>[alternative r&amp;b]</td>\n    </tr>\n    <tr>\n      <th>327</th>\n      <td>5dNuHnFp9DGGOxoQx1WB5v</td>\n      <td>Theydream</td>\n      <td>[high-tech minimal]</td>\n    </tr>\n    <tr>\n      <th>330</th>\n      <td>6caPJFLv1wesmM7gwK1ACy</td>\n      <td>Boris Brejcha</td>\n      <td>[high-tech minimal, minimal techno]</td>\n    </tr>\n    <tr>\n      <th>360</th>\n      <td>762310PdDnwsDxAQxzQkfX</td>\n      <td>Depeche Mode</td>\n      <td>[synthpop]</td>\n    </tr>\n  </tbody>\n</table>\n</div>"
     },
     "execution_count": 245,
     "metadata": {},
     "output_type": "execute_result"
    }
   ],
   "source": [
    "artist_set = set(playlist['artistName'].to_list()) # artists' name in playlist\n",
    "artist_genre = artists.loc[artists['name'].isin(artist_set)]\n",
    "artist_genre"
   ],
   "metadata": {
    "collapsed": false
   }
  },
  {
   "cell_type": "markdown",
   "source": [
    "### Get the tracks relevant features, and normalize values.\n",
    "\n",
    "**danceability** - How appropriate the track is for dancing based on overall regularity, beat strength, rhythm stability, and tempo.\n",
    "**energy** - How intense and active the track is, based on general entropy, onset rate, timbre, perceived loudness, and dynamic range.\n",
    "**speechiness** - How present the spoken word are in the track.\n",
    "**acousticness** - How likely the track is acoustic.\n",
    "**instrumentalness** - How likely the track contains no spoken word vocals.\n",
    "**valence** - How positive the track sounds\n",
    "**tempo** - BPM"
   ],
   "metadata": {
    "collapsed": false
   }
  },
  {
   "cell_type": "code",
   "execution_count": 244,
   "outputs": [
    {
     "data": {
      "text/plain": "         artistName                                 trackName  danceability  \\\n17           Avoure                                      Aura         0.684   \n18           Avoure                                       Ray         0.568   \n71        Sevdaliza                     The Great Hope Design         0.530   \n404       Theydream                     Avalon - Extended Mix         0.516   \n407   Boris Brejcha                                      EXIT         0.732   \n425   Boris Brejcha                              Out Of Brain         0.797   \n428   Boris Brejcha                                  Anthurie         0.805   \n429   Boris Brejcha        Continuous DJ MIX by Boris Brejcha         0.797   \n430   Boris Brejcha                    I Will Blast Your Mind         0.791   \n431   Boris Brejcha                         In Memory of Love         0.799   \n435   Boris Brejcha               Spicy (feat. Ginger) - Edit         0.711   \n443       Theydream                                       127         0.664   \n446       Theydream                        Martin Meerrettich         0.869   \n457   Boris Brejcha                         The Final - Mixed         0.858   \n468       Sevdaliza                                     Human         0.540   \n709          Avoure                                     Floyd         0.756   \n890    Depeche Mode              It's No Good - 2007 Remaster         0.601   \n892    Depeche Mode          World in My Eyes - 2006 Remaster         0.660   \n979    Depeche Mode  Personal Jesus - Original Single Version         0.637   \n980    Depeche Mode           Policy of Truth - 2006 Remaster         0.678   \n981    Depeche Mode                                  Precious         0.568   \n984    Depeche Mode                                     Angel         0.620   \n985    Depeche Mode                   Useless - 2007 Remaster         0.617   \n986    Depeche Mode                                      Home         0.473   \n987    Depeche Mode                                    Heaven         0.564   \n991       Sevdaliza                                    Hubris         0.622   \n992    Depeche Mode                                 Freestate         0.621   \n993    Depeche Mode                       Blasphemous Rumours         0.717   \n994    Depeche Mode                                  I Am You         0.658   \n998       Sevdaliza                                   Bluecid         0.429   \n1286      Sevdaliza                       Amandine Insensible         0.570   \n\n      energy  speechiness  acousticness  instrumentalness  valence     tempo  \n17     0.604       0.0471      0.004870          0.887000   0.3640  0.615000  \n18     0.714       0.0330      0.025000          0.944000   0.5150  0.609925  \n71     0.452       0.0524      0.327000          0.000969   0.2060  0.599970  \n404    0.611       0.0564      0.003050          0.862000   0.1320  0.630230  \n407    0.592       0.0536      0.000691          0.818000   0.0560  0.624840  \n425    0.631       0.0488      0.000207          0.875000   0.0737  0.625010  \n428    0.734       0.0536      0.000409          0.841000   0.0911  0.625035  \n429    0.721       0.0565      0.001460          0.827000   0.2430  0.625030  \n430    0.823       0.0643      0.002130          0.709000   0.2670  0.625065  \n431    0.709       0.0670      0.002180          0.873000   0.3560  0.625015  \n435    0.472       0.0464      0.000243          0.827000   0.1420  0.625065  \n443    0.626       0.1120      0.003890          0.820000   0.1440  0.635160  \n446    0.647       0.1780      0.020400          0.888000   0.2150  0.630030  \n457    0.596       0.2870      0.000172          0.933000   0.4950  0.625020  \n468    0.168       0.0664      0.250000          0.028100   0.1630  0.488965  \n709    0.722       0.0622      0.476000          0.933000   0.1280  0.599955  \n890    0.756       0.0348      0.008610          0.041600   0.1850  0.495390  \n892    0.881       0.0417      0.007460          0.827000   0.9520  0.611215  \n979    0.682       0.0366      0.011200          0.023400   0.7140  0.649915  \n980    0.657       0.0280      0.009330          0.225000   0.3580  0.571045  \n981    0.837       0.0266      0.090000          0.058700   0.8530  0.524940  \n984    0.720       0.0347      0.000506          0.103000   0.2730  0.569880  \n985    0.649       0.0235      0.015200          0.031700   0.7350  0.470710  \n986    0.719       0.0304      0.058100          0.002730   0.4380  0.752205  \n987    0.483       0.0263      0.000531          0.013800   0.2830  0.500125  \n991    0.411       0.0327      0.551000          0.059800   0.1120  0.729755  \n992    0.761       0.0284      0.698000          0.011600   0.4770  0.475250  \n993    0.719       0.0349      0.228000          0.001400   0.2810  0.598785  \n994    0.491       0.0288      0.002030          0.730000   0.4520  0.679530  \n998    0.393       0.0308      0.679000          0.008620   0.1390  0.464260  \n1286   0.321       0.0349      0.357000          0.286000   0.2540  0.669455  ",
      "text/html": "<div>\n<style scoped>\n    .dataframe tbody tr th:only-of-type {\n        vertical-align: middle;\n    }\n\n    .dataframe tbody tr th {\n        vertical-align: top;\n    }\n\n    .dataframe thead th {\n        text-align: right;\n    }\n</style>\n<table border=\"1\" class=\"dataframe\">\n  <thead>\n    <tr style=\"text-align: right;\">\n      <th></th>\n      <th>artistName</th>\n      <th>trackName</th>\n      <th>danceability</th>\n      <th>energy</th>\n      <th>speechiness</th>\n      <th>acousticness</th>\n      <th>instrumentalness</th>\n      <th>valence</th>\n      <th>tempo</th>\n    </tr>\n  </thead>\n  <tbody>\n    <tr>\n      <th>17</th>\n      <td>Avoure</td>\n      <td>Aura</td>\n      <td>0.684</td>\n      <td>0.604</td>\n      <td>0.0471</td>\n      <td>0.004870</td>\n      <td>0.887000</td>\n      <td>0.3640</td>\n      <td>0.615000</td>\n    </tr>\n    <tr>\n      <th>18</th>\n      <td>Avoure</td>\n      <td>Ray</td>\n      <td>0.568</td>\n      <td>0.714</td>\n      <td>0.0330</td>\n      <td>0.025000</td>\n      <td>0.944000</td>\n      <td>0.5150</td>\n      <td>0.609925</td>\n    </tr>\n    <tr>\n      <th>71</th>\n      <td>Sevdaliza</td>\n      <td>The Great Hope Design</td>\n      <td>0.530</td>\n      <td>0.452</td>\n      <td>0.0524</td>\n      <td>0.327000</td>\n      <td>0.000969</td>\n      <td>0.2060</td>\n      <td>0.599970</td>\n    </tr>\n    <tr>\n      <th>404</th>\n      <td>Theydream</td>\n      <td>Avalon - Extended Mix</td>\n      <td>0.516</td>\n      <td>0.611</td>\n      <td>0.0564</td>\n      <td>0.003050</td>\n      <td>0.862000</td>\n      <td>0.1320</td>\n      <td>0.630230</td>\n    </tr>\n    <tr>\n      <th>407</th>\n      <td>Boris Brejcha</td>\n      <td>EXIT</td>\n      <td>0.732</td>\n      <td>0.592</td>\n      <td>0.0536</td>\n      <td>0.000691</td>\n      <td>0.818000</td>\n      <td>0.0560</td>\n      <td>0.624840</td>\n    </tr>\n    <tr>\n      <th>425</th>\n      <td>Boris Brejcha</td>\n      <td>Out Of Brain</td>\n      <td>0.797</td>\n      <td>0.631</td>\n      <td>0.0488</td>\n      <td>0.000207</td>\n      <td>0.875000</td>\n      <td>0.0737</td>\n      <td>0.625010</td>\n    </tr>\n    <tr>\n      <th>428</th>\n      <td>Boris Brejcha</td>\n      <td>Anthurie</td>\n      <td>0.805</td>\n      <td>0.734</td>\n      <td>0.0536</td>\n      <td>0.000409</td>\n      <td>0.841000</td>\n      <td>0.0911</td>\n      <td>0.625035</td>\n    </tr>\n    <tr>\n      <th>429</th>\n      <td>Boris Brejcha</td>\n      <td>Continuous DJ MIX by Boris Brejcha</td>\n      <td>0.797</td>\n      <td>0.721</td>\n      <td>0.0565</td>\n      <td>0.001460</td>\n      <td>0.827000</td>\n      <td>0.2430</td>\n      <td>0.625030</td>\n    </tr>\n    <tr>\n      <th>430</th>\n      <td>Boris Brejcha</td>\n      <td>I Will Blast Your Mind</td>\n      <td>0.791</td>\n      <td>0.823</td>\n      <td>0.0643</td>\n      <td>0.002130</td>\n      <td>0.709000</td>\n      <td>0.2670</td>\n      <td>0.625065</td>\n    </tr>\n    <tr>\n      <th>431</th>\n      <td>Boris Brejcha</td>\n      <td>In Memory of Love</td>\n      <td>0.799</td>\n      <td>0.709</td>\n      <td>0.0670</td>\n      <td>0.002180</td>\n      <td>0.873000</td>\n      <td>0.3560</td>\n      <td>0.625015</td>\n    </tr>\n    <tr>\n      <th>435</th>\n      <td>Boris Brejcha</td>\n      <td>Spicy (feat. Ginger) - Edit</td>\n      <td>0.711</td>\n      <td>0.472</td>\n      <td>0.0464</td>\n      <td>0.000243</td>\n      <td>0.827000</td>\n      <td>0.1420</td>\n      <td>0.625065</td>\n    </tr>\n    <tr>\n      <th>443</th>\n      <td>Theydream</td>\n      <td>127</td>\n      <td>0.664</td>\n      <td>0.626</td>\n      <td>0.1120</td>\n      <td>0.003890</td>\n      <td>0.820000</td>\n      <td>0.1440</td>\n      <td>0.635160</td>\n    </tr>\n    <tr>\n      <th>446</th>\n      <td>Theydream</td>\n      <td>Martin Meerrettich</td>\n      <td>0.869</td>\n      <td>0.647</td>\n      <td>0.1780</td>\n      <td>0.020400</td>\n      <td>0.888000</td>\n      <td>0.2150</td>\n      <td>0.630030</td>\n    </tr>\n    <tr>\n      <th>457</th>\n      <td>Boris Brejcha</td>\n      <td>The Final - Mixed</td>\n      <td>0.858</td>\n      <td>0.596</td>\n      <td>0.2870</td>\n      <td>0.000172</td>\n      <td>0.933000</td>\n      <td>0.4950</td>\n      <td>0.625020</td>\n    </tr>\n    <tr>\n      <th>468</th>\n      <td>Sevdaliza</td>\n      <td>Human</td>\n      <td>0.540</td>\n      <td>0.168</td>\n      <td>0.0664</td>\n      <td>0.250000</td>\n      <td>0.028100</td>\n      <td>0.1630</td>\n      <td>0.488965</td>\n    </tr>\n    <tr>\n      <th>709</th>\n      <td>Avoure</td>\n      <td>Floyd</td>\n      <td>0.756</td>\n      <td>0.722</td>\n      <td>0.0622</td>\n      <td>0.476000</td>\n      <td>0.933000</td>\n      <td>0.1280</td>\n      <td>0.599955</td>\n    </tr>\n    <tr>\n      <th>890</th>\n      <td>Depeche Mode</td>\n      <td>It's No Good - 2007 Remaster</td>\n      <td>0.601</td>\n      <td>0.756</td>\n      <td>0.0348</td>\n      <td>0.008610</td>\n      <td>0.041600</td>\n      <td>0.1850</td>\n      <td>0.495390</td>\n    </tr>\n    <tr>\n      <th>892</th>\n      <td>Depeche Mode</td>\n      <td>World in My Eyes - 2006 Remaster</td>\n      <td>0.660</td>\n      <td>0.881</td>\n      <td>0.0417</td>\n      <td>0.007460</td>\n      <td>0.827000</td>\n      <td>0.9520</td>\n      <td>0.611215</td>\n    </tr>\n    <tr>\n      <th>979</th>\n      <td>Depeche Mode</td>\n      <td>Personal Jesus - Original Single Version</td>\n      <td>0.637</td>\n      <td>0.682</td>\n      <td>0.0366</td>\n      <td>0.011200</td>\n      <td>0.023400</td>\n      <td>0.7140</td>\n      <td>0.649915</td>\n    </tr>\n    <tr>\n      <th>980</th>\n      <td>Depeche Mode</td>\n      <td>Policy of Truth - 2006 Remaster</td>\n      <td>0.678</td>\n      <td>0.657</td>\n      <td>0.0280</td>\n      <td>0.009330</td>\n      <td>0.225000</td>\n      <td>0.3580</td>\n      <td>0.571045</td>\n    </tr>\n    <tr>\n      <th>981</th>\n      <td>Depeche Mode</td>\n      <td>Precious</td>\n      <td>0.568</td>\n      <td>0.837</td>\n      <td>0.0266</td>\n      <td>0.090000</td>\n      <td>0.058700</td>\n      <td>0.8530</td>\n      <td>0.524940</td>\n    </tr>\n    <tr>\n      <th>984</th>\n      <td>Depeche Mode</td>\n      <td>Angel</td>\n      <td>0.620</td>\n      <td>0.720</td>\n      <td>0.0347</td>\n      <td>0.000506</td>\n      <td>0.103000</td>\n      <td>0.2730</td>\n      <td>0.569880</td>\n    </tr>\n    <tr>\n      <th>985</th>\n      <td>Depeche Mode</td>\n      <td>Useless - 2007 Remaster</td>\n      <td>0.617</td>\n      <td>0.649</td>\n      <td>0.0235</td>\n      <td>0.015200</td>\n      <td>0.031700</td>\n      <td>0.7350</td>\n      <td>0.470710</td>\n    </tr>\n    <tr>\n      <th>986</th>\n      <td>Depeche Mode</td>\n      <td>Home</td>\n      <td>0.473</td>\n      <td>0.719</td>\n      <td>0.0304</td>\n      <td>0.058100</td>\n      <td>0.002730</td>\n      <td>0.4380</td>\n      <td>0.752205</td>\n    </tr>\n    <tr>\n      <th>987</th>\n      <td>Depeche Mode</td>\n      <td>Heaven</td>\n      <td>0.564</td>\n      <td>0.483</td>\n      <td>0.0263</td>\n      <td>0.000531</td>\n      <td>0.013800</td>\n      <td>0.2830</td>\n      <td>0.500125</td>\n    </tr>\n    <tr>\n      <th>991</th>\n      <td>Sevdaliza</td>\n      <td>Hubris</td>\n      <td>0.622</td>\n      <td>0.411</td>\n      <td>0.0327</td>\n      <td>0.551000</td>\n      <td>0.059800</td>\n      <td>0.1120</td>\n      <td>0.729755</td>\n    </tr>\n    <tr>\n      <th>992</th>\n      <td>Depeche Mode</td>\n      <td>Freestate</td>\n      <td>0.621</td>\n      <td>0.761</td>\n      <td>0.0284</td>\n      <td>0.698000</td>\n      <td>0.011600</td>\n      <td>0.4770</td>\n      <td>0.475250</td>\n    </tr>\n    <tr>\n      <th>993</th>\n      <td>Depeche Mode</td>\n      <td>Blasphemous Rumours</td>\n      <td>0.717</td>\n      <td>0.719</td>\n      <td>0.0349</td>\n      <td>0.228000</td>\n      <td>0.001400</td>\n      <td>0.2810</td>\n      <td>0.598785</td>\n    </tr>\n    <tr>\n      <th>994</th>\n      <td>Depeche Mode</td>\n      <td>I Am You</td>\n      <td>0.658</td>\n      <td>0.491</td>\n      <td>0.0288</td>\n      <td>0.002030</td>\n      <td>0.730000</td>\n      <td>0.4520</td>\n      <td>0.679530</td>\n    </tr>\n    <tr>\n      <th>998</th>\n      <td>Sevdaliza</td>\n      <td>Bluecid</td>\n      <td>0.429</td>\n      <td>0.393</td>\n      <td>0.0308</td>\n      <td>0.679000</td>\n      <td>0.008620</td>\n      <td>0.1390</td>\n      <td>0.464260</td>\n    </tr>\n    <tr>\n      <th>1286</th>\n      <td>Sevdaliza</td>\n      <td>Amandine Insensible</td>\n      <td>0.570</td>\n      <td>0.321</td>\n      <td>0.0349</td>\n      <td>0.357000</td>\n      <td>0.286000</td>\n      <td>0.2540</td>\n      <td>0.669455</td>\n    </tr>\n  </tbody>\n</table>\n</div>"
     },
     "execution_count": 244,
     "metadata": {},
     "output_type": "execute_result"
    }
   ],
   "source": [
    "trackNames = playlist['trackName'].to_list()\n",
    "trackFeatures = features.loc[features['trackName'].isin(trackNames)][['artistName','trackName','danceability','energy','speechiness','acousticness','instrumentalness','valence', 'tempo']]\n",
    "trackFeatures['tempo'] = trackFeatures['tempo'] / 200\n",
    "points = trackFeatures[['danceability','energy','speechiness','acousticness','instrumentalness','valence', 'tempo']]\n",
    "labels = trackFeatures[['artistName', 'trackName']]\n",
    "trackFeatures"
   ],
   "metadata": {
    "collapsed": false
   }
  },
  {
   "cell_type": "markdown",
   "source": [
    "## Run K-means on the data set\n"
   ],
   "metadata": {
    "collapsed": false
   }
  },
  {
   "cell_type": "code",
   "execution_count": 238,
   "outputs": [],
   "source": [
    "from IPython.core.display import Markdown\n",
    "from IPython.display import display, HTML\n",
    "\n",
    "def pretty_print(u_labels):\n",
    "    for i in u_labels:\n",
    "        df_html = labels[['artistName', 'trackName']][label == i].to_html(index=False)\n",
    "        display(Markdown(f'### Cluster: {i}'))\n",
    "        display(HTML(df_html))"
   ],
   "metadata": {
    "collapsed": false
   }
  },
  {
   "cell_type": "markdown",
   "source": [
    "#### Finding different artists' style (n_clusters = 5)\n",
    "\n",
    "The intuition was that, there are 5 artist in the dataset, and I would like to see if K-Means would create clusters that contains only one artist's tracks, so I set the hyperparameter *n_clusters* to 5. I used PCA to visualise the data hoping, that the found clusters would be visible. I ran K-Means on the PCA transformed data."
   ],
   "metadata": {
    "collapsed": false
   }
  },
  {
   "cell_type": "code",
   "execution_count": 239,
   "outputs": [],
   "source": [
    "from sklearn.cluster import KMeans\n",
    "from sklearn.decomposition import PCA\n",
    "import matplotlib.pyplot as plt\n",
    "\n",
    "pca = PCA(2)\n",
    "data = pca.fit_transform(points)"
   ],
   "metadata": {
    "collapsed": false
   }
  },
  {
   "cell_type": "code",
   "execution_count": 242,
   "outputs": [
    {
     "data": {
      "text/plain": "<Figure size 640x480 with 1 Axes>",
      "image/png": "[encoded data removed]"
     },
     "metadata": {},
     "output_type": "display_data"
    },
    {
     "data": {
      "text/plain": "<IPython.core.display.Markdown object>",
      "text/markdown": "### Cluster: 0"
     },
     "metadata": {},
     "output_type": "display_data"
    },
    {
     "data": {
      "text/plain": "<IPython.core.display.HTML object>",
      "text/html": "<table border=\"1\" class=\"dataframe\">\n  <thead>\n    <tr style=\"text-align: right;\">\n      <th>artistName</th>\n      <th>trackName</th>\n    </tr>\n  </thead>\n  <tbody>\n    <tr>\n      <td>Avoure</td>\n      <td>Aura</td>\n    </tr>\n    <tr>\n      <td>Avoure</td>\n      <td>Ray</td>\n    </tr>\n    <tr>\n      <td>Theydream</td>\n      <td>Avalon - Extended Mix</td>\n    </tr>\n    <tr>\n      <td>Boris Brejcha</td>\n      <td>EXIT</td>\n    </tr>\n    <tr>\n      <td>Boris Brejcha</td>\n      <td>Out Of Brain</td>\n    </tr>\n    <tr>\n      <td>Boris Brejcha</td>\n      <td>Anthurie</td>\n    </tr>\n    <tr>\n      <td>Boris Brejcha</td>\n      <td>Continuous DJ MIX by Boris Brejcha</td>\n    </tr>\n    <tr>\n      <td>Boris Brejcha</td>\n      <td>I Will Blast Your Mind</td>\n    </tr>\n    <tr>\n      <td>Boris Brejcha</td>\n      <td>In Memory of Love</td>\n    </tr>\n    <tr>\n      <td>Boris Brejcha</td>\n      <td>Spicy (feat. Ginger) - Edit</td>\n    </tr>\n    <tr>\n      <td>Theydream</td>\n      <td>127</td>\n    </tr>\n    <tr>\n      <td>Theydream</td>\n      <td>Martin Meerrettich</td>\n    </tr>\n    <tr>\n      <td>Boris Brejcha</td>\n      <td>The Final - Mixed</td>\n    </tr>\n    <tr>\n      <td>Avoure</td>\n      <td>Floyd</td>\n    </tr>\n    <tr>\n      <td>Depeche Mode</td>\n      <td>I Am You</td>\n    </tr>\n  </tbody>\n</table>"
     },
     "metadata": {},
     "output_type": "display_data"
    },
    {
     "data": {
      "text/plain": "<IPython.core.display.Markdown object>",
      "text/markdown": "### Cluster: 1"
     },
     "metadata": {},
     "output_type": "display_data"
    },
    {
     "data": {
      "text/plain": "<IPython.core.display.HTML object>",
      "text/html": "<table border=\"1\" class=\"dataframe\">\n  <thead>\n    <tr style=\"text-align: right;\">\n      <th>artistName</th>\n      <th>trackName</th>\n    </tr>\n  </thead>\n  <tbody>\n    <tr>\n      <td>Depeche Mode</td>\n      <td>It's No Good - 2007 Remaster</td>\n    </tr>\n    <tr>\n      <td>Depeche Mode</td>\n      <td>Policy of Truth - 2006 Remaster</td>\n    </tr>\n    <tr>\n      <td>Depeche Mode</td>\n      <td>Angel</td>\n    </tr>\n    <tr>\n      <td>Depeche Mode</td>\n      <td>Home</td>\n    </tr>\n    <tr>\n      <td>Depeche Mode</td>\n      <td>Heaven</td>\n    </tr>\n    <tr>\n      <td>Depeche Mode</td>\n      <td>Freestate</td>\n    </tr>\n    <tr>\n      <td>Depeche Mode</td>\n      <td>Blasphemous Rumours</td>\n    </tr>\n  </tbody>\n</table>"
     },
     "metadata": {},
     "output_type": "display_data"
    },
    {
     "data": {
      "text/plain": "<IPython.core.display.Markdown object>",
      "text/markdown": "### Cluster: 2"
     },
     "metadata": {},
     "output_type": "display_data"
    },
    {
     "data": {
      "text/plain": "<IPython.core.display.HTML object>",
      "text/html": "<table border=\"1\" class=\"dataframe\">\n  <thead>\n    <tr style=\"text-align: right;\">\n      <th>artistName</th>\n      <th>trackName</th>\n    </tr>\n  </thead>\n  <tbody>\n    <tr>\n      <td>Depeche Mode</td>\n      <td>Personal Jesus - Original Single Version</td>\n    </tr>\n    <tr>\n      <td>Depeche Mode</td>\n      <td>Precious</td>\n    </tr>\n    <tr>\n      <td>Depeche Mode</td>\n      <td>Useless - 2007 Remaster</td>\n    </tr>\n  </tbody>\n</table>"
     },
     "metadata": {},
     "output_type": "display_data"
    },
    {
     "data": {
      "text/plain": "<IPython.core.display.Markdown object>",
      "text/markdown": "### Cluster: 3"
     },
     "metadata": {},
     "output_type": "display_data"
    },
    {
     "data": {
      "text/plain": "<IPython.core.display.HTML object>",
      "text/html": "<table border=\"1\" class=\"dataframe\">\n  <thead>\n    <tr style=\"text-align: right;\">\n      <th>artistName</th>\n      <th>trackName</th>\n    </tr>\n  </thead>\n  <tbody>\n    <tr>\n      <td>Depeche Mode</td>\n      <td>World in My Eyes - 2006 Remaster</td>\n    </tr>\n  </tbody>\n</table>"
     },
     "metadata": {},
     "output_type": "display_data"
    },
    {
     "data": {
      "text/plain": "<IPython.core.display.Markdown object>",
      "text/markdown": "### Cluster: 4"
     },
     "metadata": {},
     "output_type": "display_data"
    },
    {
     "data": {
      "text/plain": "<IPython.core.display.HTML object>",
      "text/html": "<table border=\"1\" class=\"dataframe\">\n  <thead>\n    <tr style=\"text-align: right;\">\n      <th>artistName</th>\n      <th>trackName</th>\n    </tr>\n  </thead>\n  <tbody>\n    <tr>\n      <td>Sevdaliza</td>\n      <td>The Great Hope Design</td>\n    </tr>\n    <tr>\n      <td>Sevdaliza</td>\n      <td>Human</td>\n    </tr>\n    <tr>\n      <td>Sevdaliza</td>\n      <td>Hubris</td>\n    </tr>\n    <tr>\n      <td>Sevdaliza</td>\n      <td>Bluecid</td>\n    </tr>\n    <tr>\n      <td>Sevdaliza</td>\n      <td>Amandine Insensible</td>\n    </tr>\n  </tbody>\n</table>"
     },
     "metadata": {},
     "output_type": "display_data"
    }
   ],
   "source": [
    "kmeans = KMeans(n_clusters=5)\n",
    "label = kmeans.fit_predict(data)\n",
    "u_labels = np.unique(label)\n",
    "\n",
    "for i in u_labels:\n",
    "    plt.scatter(data[label == i , 0] , data[label == i , 1] , label = i)\n",
    "plt.legend()\n",
    "plt.show()\n",
    "\n",
    "pretty_print(u_labels)"
   ],
   "metadata": {
    "collapsed": false
   }
  },
  {
   "cell_type": "markdown",
   "source": [
    "#### Finding clusters based on similarity of genres (n_clusters = 3)\n",
    "\n",
    "Based on the previous results it looks like, that there is only three clusters. I think, that Avoure, Theydream and Boris Brejcha plays very similar music opposed to Sevdaliza and Depeche Mode, so there should be three groups. The first one should be **minimal techno**, the second one should be **synthpop**, and the third one should be **alternative r&b**."
   ],
   "metadata": {
    "collapsed": false
   }
  },
  {
   "cell_type": "code",
   "execution_count": 249,
   "outputs": [
    {
     "data": {
      "text/plain": "<Figure size 640x480 with 1 Axes>",
      "image/png": "[encoded data removed]"
     },
     "metadata": {},
     "output_type": "display_data"
    },
    {
     "data": {
      "text/plain": "<IPython.core.display.Markdown object>",
      "text/markdown": "### Cluster: 0"
     },
     "metadata": {},
     "output_type": "display_data"
    },
    {
     "data": {
      "text/plain": "<IPython.core.display.HTML object>",
      "text/html": "<table border=\"1\" class=\"dataframe\">\n  <thead>\n    <tr style=\"text-align: right;\">\n      <th>artistName</th>\n      <th>trackName</th>\n    </tr>\n  </thead>\n  <tbody>\n    <tr>\n      <td>Depeche Mode</td>\n      <td>It's No Good - 2007 Remaster</td>\n    </tr>\n    <tr>\n      <td>Depeche Mode</td>\n      <td>Personal Jesus - Original Single Version</td>\n    </tr>\n    <tr>\n      <td>Depeche Mode</td>\n      <td>Policy of Truth - 2006 Remaster</td>\n    </tr>\n    <tr>\n      <td>Depeche Mode</td>\n      <td>Precious</td>\n    </tr>\n    <tr>\n      <td>Depeche Mode</td>\n      <td>Angel</td>\n    </tr>\n    <tr>\n      <td>Depeche Mode</td>\n      <td>Useless - 2007 Remaster</td>\n    </tr>\n    <tr>\n      <td>Depeche Mode</td>\n      <td>Home</td>\n    </tr>\n    <tr>\n      <td>Depeche Mode</td>\n      <td>Heaven</td>\n    </tr>\n    <tr>\n      <td>Depeche Mode</td>\n      <td>Freestate</td>\n    </tr>\n    <tr>\n      <td>Depeche Mode</td>\n      <td>Blasphemous Rumours</td>\n    </tr>\n  </tbody>\n</table>"
     },
     "metadata": {},
     "output_type": "display_data"
    },
    {
     "data": {
      "text/plain": "<IPython.core.display.Markdown object>",
      "text/markdown": "### Cluster: 1"
     },
     "metadata": {},
     "output_type": "display_data"
    },
    {
     "data": {
      "text/plain": "<IPython.core.display.HTML object>",
      "text/html": "<table border=\"1\" class=\"dataframe\">\n  <thead>\n    <tr style=\"text-align: right;\">\n      <th>artistName</th>\n      <th>trackName</th>\n    </tr>\n  </thead>\n  <tbody>\n    <tr>\n      <td>Avoure</td>\n      <td>Aura</td>\n    </tr>\n    <tr>\n      <td>Avoure</td>\n      <td>Ray</td>\n    </tr>\n    <tr>\n      <td>Theydream</td>\n      <td>Avalon - Extended Mix</td>\n    </tr>\n    <tr>\n      <td>Boris Brejcha</td>\n      <td>EXIT</td>\n    </tr>\n    <tr>\n      <td>Boris Brejcha</td>\n      <td>Out Of Brain</td>\n    </tr>\n    <tr>\n      <td>Boris Brejcha</td>\n      <td>Anthurie</td>\n    </tr>\n    <tr>\n      <td>Boris Brejcha</td>\n      <td>Continuous DJ MIX by Boris Brejcha</td>\n    </tr>\n    <tr>\n      <td>Boris Brejcha</td>\n      <td>I Will Blast Your Mind</td>\n    </tr>\n    <tr>\n      <td>Boris Brejcha</td>\n      <td>In Memory of Love</td>\n    </tr>\n    <tr>\n      <td>Boris Brejcha</td>\n      <td>Spicy (feat. Ginger) - Edit</td>\n    </tr>\n    <tr>\n      <td>Theydream</td>\n      <td>127</td>\n    </tr>\n    <tr>\n      <td>Theydream</td>\n      <td>Martin Meerrettich</td>\n    </tr>\n    <tr>\n      <td>Boris Brejcha</td>\n      <td>The Final - Mixed</td>\n    </tr>\n    <tr>\n      <td>Avoure</td>\n      <td>Floyd</td>\n    </tr>\n    <tr>\n      <td>Depeche Mode</td>\n      <td>World in My Eyes - 2006 Remaster</td>\n    </tr>\n    <tr>\n      <td>Depeche Mode</td>\n      <td>I Am You</td>\n    </tr>\n  </tbody>\n</table>"
     },
     "metadata": {},
     "output_type": "display_data"
    },
    {
     "data": {
      "text/plain": "<IPython.core.display.Markdown object>",
      "text/markdown": "### Cluster: 2"
     },
     "metadata": {},
     "output_type": "display_data"
    },
    {
     "data": {
      "text/plain": "<IPython.core.display.HTML object>",
      "text/html": "<table border=\"1\" class=\"dataframe\">\n  <thead>\n    <tr style=\"text-align: right;\">\n      <th>artistName</th>\n      <th>trackName</th>\n    </tr>\n  </thead>\n  <tbody>\n    <tr>\n      <td>Sevdaliza</td>\n      <td>The Great Hope Design</td>\n    </tr>\n    <tr>\n      <td>Sevdaliza</td>\n      <td>Human</td>\n    </tr>\n    <tr>\n      <td>Sevdaliza</td>\n      <td>Hubris</td>\n    </tr>\n    <tr>\n      <td>Sevdaliza</td>\n      <td>Bluecid</td>\n    </tr>\n    <tr>\n      <td>Sevdaliza</td>\n      <td>Amandine Insensible</td>\n    </tr>\n  </tbody>\n</table>"
     },
     "metadata": {},
     "output_type": "display_data"
    }
   ],
   "source": [
    "kmeans = KMeans(n_clusters=3)\n",
    "label = kmeans.fit_predict(data)\n",
    "u_labels = np.unique(label)\n",
    "\n",
    "for i in u_labels:\n",
    "    plt.scatter(data[label == i , 0] , data[label == i , 1] , label = i)\n",
    "plt.legend()\n",
    "plt.show()\n",
    "\n",
    "pretty_print(u_labels)"
   ],
   "metadata": {
    "collapsed": false
   }
  },
  {
   "cell_type": "markdown",
   "source": [
    "### Results\n",
    "\n",
    "When the algorithm tries to find 3 clusters the genres seem to be grouped quite well. Unfortunately, two songs from Depeche Mode are seemed to be more similar to the minimal techno tracks rather than the songs from the same artists.\n",
    "\n",
    "### Personal Notes\n",
    "\n",
    "I was surprised, that the groups are visible after PCA. I'm pretty sure, that if I introduce more songs, artists and genres the problem would get harder and harder, and it would introduce more outliers. In this case I tried to find at leas 5 different artist whose songs I like and I saved at least 4 songs from them.\n",
    "\n",
    "I have found a lot of artist where I could not find the genre. I think it would be a great next step to train a model to detect the genres based on these features and fill out the missing ones."
   ],
   "metadata": {
    "collapsed": false
   }
  }
 ],
 "metadata": {
  "kernelspec": {
   "display_name": "Python 3",
   "language": "python",
   "name": "python3"
  },
  "language_info": {
   "codemirror_mode": {
    "name": "ipython",
    "version": 2
   },
   "file_extension": ".py",
   "mimetype": "text/x-python",
   "name": "python",
   "nbconvert_exporter": "python",
   "pygments_lexer": "ipython2",
   "version": "2.7.6"
  }
 },
 "nbformat": 4,
 "nbformat_minor": 0
}
